{
 "cells": [
  {
   "cell_type": "markdown",
   "id": "cf5c369d-5a8e-4091-8a00-5acf63ae89f9",
   "metadata": {},
   "source": [
    "# RabbitMQ example publisher code"
   ]
  },
  {
   "cell_type": "code",
   "execution_count": 29,
   "id": "85200e49",
   "metadata": {},
   "outputs": [
    {
     "name": "stdout",
     "output_type": "stream",
     "text": [
      "pika version: 1.3.2\n"
     ]
    }
   ],
   "source": [
    "# import the pika library\n",
    "import pika, logging\n",
    "from pika.exchange_type import ExchangeType\n",
    "\n",
    "print('pika version: %s' % pika.__version__)"
   ]
  },
  {
   "cell_type": "code",
   "execution_count": 30,
   "id": "1ab1d584",
   "metadata": {},
   "outputs": [
    {
     "name": "stderr",
     "output_type": "stream",
     "text": [
      "Pika version 1.3.2 connecting to ('10.106.106.251', 5672)\n",
      "Socket connected: <socket.socket fd=62, family=2, type=1, proto=6, laddr=('10.224.217.85', 38284), raddr=('10.106.106.251', 5672)>\n",
      "Streaming transport linked up: (<pika.adapters.utils.io_services_utils._AsyncPlaintextTransport object at 0x7fe8aaabe250>, _StreamingProtocolShim: <SelectConnection PROTOCOL transport=<pika.adapters.utils.io_services_utils._AsyncPlaintextTransport object at 0x7fe8aaabe250> params=<ConnectionParameters host=rabbitmq.rabbitmq.svc.cluster.local port=5672 virtual_host=/ ssl=False>>).\n",
      "AMQPConnector - reporting success: <SelectConnection OPEN transport=<pika.adapters.utils.io_services_utils._AsyncPlaintextTransport object at 0x7fe8aaabe250> params=<ConnectionParameters host=rabbitmq.rabbitmq.svc.cluster.local port=5672 virtual_host=/ ssl=False>>\n",
      "AMQPConnectionWorkflow - reporting success: <SelectConnection OPEN transport=<pika.adapters.utils.io_services_utils._AsyncPlaintextTransport object at 0x7fe8aaabe250> params=<ConnectionParameters host=rabbitmq.rabbitmq.svc.cluster.local port=5672 virtual_host=/ ssl=False>>\n",
      "Connection workflow succeeded: <SelectConnection OPEN transport=<pika.adapters.utils.io_services_utils._AsyncPlaintextTransport object at 0x7fe8aaabe250> params=<ConnectionParameters host=rabbitmq.rabbitmq.svc.cluster.local port=5672 virtual_host=/ ssl=False>>\n",
      "Created channel=1\n",
      "Closing connection (200): Normal shutdown\n",
      "Closing channel (200): 'Normal shutdown' on <Channel number=1 OPEN conn=<SelectConnection OPEN transport=<pika.adapters.utils.io_services_utils._AsyncPlaintextTransport object at 0x7fe8aaabe250> params=<ConnectionParameters host=rabbitmq.rabbitmq.svc.cluster.local port=5672 virtual_host=/ ssl=False>>>\n",
      "Received <Channel.CloseOk> on <Channel number=1 CLOSING conn=<SelectConnection OPEN transport=<pika.adapters.utils.io_services_utils._AsyncPlaintextTransport object at 0x7fe8aaabe250> params=<ConnectionParameters host=rabbitmq.rabbitmq.svc.cluster.local port=5672 virtual_host=/ ssl=False>>>\n",
      "Closing connection (200): 'Normal shutdown'\n",
      "Aborting transport connection: state=1; <socket.socket fd=62, family=2, type=1, proto=6, laddr=('10.224.217.85', 38284), raddr=('10.106.106.251', 5672)>\n",
      "_AsyncTransportBase._initate_abort(): Initiating abrupt asynchronous transport shutdown: state=1; error=None; <socket.socket fd=62, family=2, type=1, proto=6, laddr=('10.224.217.85', 38284), raddr=('10.106.106.251', 5672)>\n",
      "Deactivating transport: state=1; <socket.socket fd=62, family=2, type=1, proto=6, laddr=('10.224.217.85', 38284), raddr=('10.106.106.251', 5672)>\n",
      "AMQP stack terminated, failed to connect, or aborted: opened=True, error-arg=None; pending-error=ConnectionClosedByClient: (200) 'Normal shutdown'\n",
      "Stack terminated due to ConnectionClosedByClient: (200) 'Normal shutdown'\n",
      "Closing transport socket and unlinking: state=3; <socket.socket fd=62, family=2, type=1, proto=6, laddr=('10.224.217.85', 38284), raddr=('10.106.106.251', 5672)>\n",
      "User-initiated close: result=BlockingConnection__OnClosedArgs(connection=<SelectConnection CLOSED transport=None params=<ConnectionParameters host=rabbitmq.rabbitmq.svc.cluster.local port=5672 virtual_host=/ ssl=False>>, error=ConnectionClosedByClient: (200) 'Normal shutdown')\n"
     ]
    },
    {
     "name": "stdout",
     "output_type": "stream",
     "text": [
      "[x] Message sent to consumer via exchange queue epam-process\n"
     ]
    }
   ],
   "source": [
    "# configure parameters, change the rabbitmq_url according to rabbitmq deployment\n",
    "rabbitmq_url = 'rabbitmq.rabbitmq.svc.cluster.local'\n",
    "username = 'pcaidemo'\n",
    "password = 'Changeme!2345'\n",
    "usercredentials = pika.PlainCredentials(username, password)\n",
    "\n",
    "# connect to rabbitmq instance\n",
    "parameters = pika.ConnectionParameters('rabbitmq.rabbitmq.svc.cluster.local', 5672, '/', usercredentials)\n",
    "connection = pika.BlockingConnection(parameters)\n",
    "\n",
    "# start a channel\n",
    "channel = connection.channel()\n",
    "\n",
    "# declare an exchange\n",
    "channel.exchange_declare(exchange='epam-exchange', exchange_type=ExchangeType.direct)\n",
    "\n",
    "# declare a queue\n",
    "queue_result = channel.queue_declare(queue='epam-process') \n",
    "queue_name = queue_result.method.queue\n",
    "\n",
    "# create a bind\n",
    "channel.queue_bind(exchange='epam-exchange', queue=queue_name, routing_key='epam-process')\n",
    "\n",
    "# publish a message\n",
    "channel.basic_publish(exchange='epam-exchange', routing_key='epam-process', body='EPAM user information to epam-exchange')\n",
    "print (\"[x] Message sent to consumer via exchange queue epam-process\")\n",
    "\n",
    "# close the connection\n",
    "connection.close()"
   ]
  },
  {
   "cell_type": "code",
   "execution_count": null,
   "id": "e8a916c4-5a0d-4246-a0ce-148f6872c1b9",
   "metadata": {},
   "outputs": [],
   "source": []
  }
 ],
 "metadata": {
  "kernelspec": {
   "display_name": "Python 3 (ipykernel)",
   "language": "python",
   "name": "python3"
  },
  "language_info": {
   "codemirror_mode": {
    "name": "ipython",
    "version": 3
   },
   "file_extension": ".py",
   "mimetype": "text/x-python",
   "name": "python",
   "nbconvert_exporter": "python",
   "pygments_lexer": "ipython3",
   "version": "3.11.9"
  }
 },
 "nbformat": 4,
 "nbformat_minor": 5
}
