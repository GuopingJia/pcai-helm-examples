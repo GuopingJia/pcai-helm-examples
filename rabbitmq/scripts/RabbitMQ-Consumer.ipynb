{
 "cells": [
  {
   "cell_type": "markdown",
   "id": "cf5c369d-5a8e-4091-8a00-5acf63ae89f9",
   "metadata": {},
   "source": [
    "# RabbitMQ example consumer code"
   ]
  },
  {
   "cell_type": "code",
   "execution_count": null,
   "id": "85200e49",
   "metadata": {},
   "outputs": [],
   "source": [
    "# import the pika library\n",
    "import pika, logging, time\n",
    "from pika.exchange_type import ExchangeType\n",
    "\n",
    "print('pika version: %s' % pika.__version__)"
   ]
  },
  {
   "cell_type": "code",
   "execution_count": null,
   "id": "838f5115-c5c0-4bff-92af-5187d644ed7e",
   "metadata": {},
   "outputs": [],
   "source": [
    "# a dummy epam processs function\n",
    "def epam_process_function(msg):\n",
    "  print(\" EPAM processing\")\n",
    "  print(\" [x] Received message \" + str(msg))\n",
    "\n",
    "  # delays for 5 seconds\n",
    "  time.sleep(5) \n",
    "\n",
    "  print(\" EPAM processing finished!\")\n",
    "  return;"
   ]
  },
  {
   "cell_type": "code",
   "execution_count": null,
   "id": "f174d67b-ad63-44d5-87da-d3b853ac06a5",
   "metadata": {},
   "outputs": [],
   "source": [
    "# callback function to be called on incoming messages\n",
    "def callback(ch, method, properties, body):\n",
    "  epam_process_function(body)"
   ]
  },
  {
   "cell_type": "code",
   "execution_count": null,
   "id": "1ab1d584",
   "metadata": {},
   "outputs": [],
   "source": [
    "# configure parameters, change the rabbitmq_url according to rabbitmq deployment\n",
    "rabbitmq_url = 'rabbitmq.rabbitmq.svc.cluster.local'\n",
    "username = 'pcaidemo'\n",
    "password = 'Changeme!2345'\n",
    "usercredentials = pika.PlainCredentials(username, password)\n",
    "\n",
    "# connect to rabbitmq instance\n",
    "parameters = pika.ConnectionParameters('rabbitmq.rabbitmq.svc.cluster.local', 5672, '/', usercredentials)\n",
    "connection = pika.BlockingConnection(parameters)\n",
    "\n",
    "# start a channel\n",
    "channel = connection.channel()\n",
    "\n",
    "# declare an exchange\n",
    "channel.exchange_declare(exchange='epam-exchange', exchange_type=ExchangeType.direct)\n",
    "\n",
    "# declare a queue\n",
    "queue_result = channel.queue_declare(queue='epam-process') \n",
    "queue_name = queue_result.method.queue\n",
    "\n",
    "# set up a subscription on the queue\n",
    "channel.basic_consume('epam-process', callback, auto_ack=True)\n",
    "\n",
    "# start consuming\n",
    "channel.start_consuming()\n",
    "\n",
    "# close the connection\n",
    "connection.close()"
   ]
  },
  {
   "cell_type": "code",
   "execution_count": null,
   "id": "ae22061f-fa2a-4755-939b-191f925078de",
   "metadata": {},
   "outputs": [],
   "source": []
  }
 ],
 "metadata": {
  "kernelspec": {
   "display_name": "Python 3 (ipykernel)",
   "language": "python",
   "name": "python3"
  },
  "language_info": {
   "codemirror_mode": {
    "name": "ipython",
    "version": 3
   },
   "file_extension": ".py",
   "mimetype": "text/x-python",
   "name": "python",
   "nbconvert_exporter": "python",
   "pygments_lexer": "ipython3",
   "version": "3.11.9"
  }
 },
 "nbformat": 4,
 "nbformat_minor": 5
}
