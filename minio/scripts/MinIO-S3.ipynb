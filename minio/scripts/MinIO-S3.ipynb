{
 "cells": [
  {
   "cell_type": "markdown",
   "id": "97050d31-1dee-46a8-b99e-88b878c38df4",
   "metadata": {},
   "source": [
    "### MinIO S3 Data Source Access with boto3"
   ]
  },
  {
   "cell_type": "code",
   "execution_count": 1,
   "id": "5f23e573-b41b-47a8-966a-839dcd12757b",
   "metadata": {},
   "outputs": [],
   "source": [
    "import boto3\n",
    "import os"
   ]
  },
  {
   "cell_type": "code",
   "execution_count": 2,
   "id": "e42d17d3-d651-452a-aab7-bfe3166202b9",
   "metadata": {},
   "outputs": [],
   "source": [
    "# %update_token"
   ]
  },
  {
   "cell_type": "code",
   "execution_count": 5,
   "id": "0bcf0abb-6e8d-4c3d-a687-3e7c2d13744e",
   "metadata": {},
   "outputs": [],
   "source": [
    "s3_url = \"http://minio-s3-service.ezdata-system.svc.cluster.local:30000\"\n",
    "\n",
    "#s3_url_internal = \"http://minio.minio.svc.cluster.local:9000\"\n",
    "#aws_access_key_id=\"<key-id>\"\n",
    "#aws_secret_access_key=\"<secret-key>\"\n"
   ]
  },
  {
   "cell_type": "code",
   "execution_count": 6,
   "id": "528f76c5-3c95-449a-bd26-ddeeb19cdf4d",
   "metadata": {
    "scrolled": true
   },
   "outputs": [
    {
     "name": "stdout",
     "output_type": "stream",
     "text": [
      "s3(http://minio-s3-service.ezdata-system.svc.cluster.local:30000)\n",
      "list buckets\n",
      "{'Name': 'anomaly-detection', 'CreationDate': datetime.datetime(2025, 7, 21, 11, 59, 47, 599000, tzinfo=tzlocal())}\n",
      "{'Name': 'inputdata', 'CreationDate': datetime.datetime(2025, 8, 12, 13, 1, 55, 423000, tzinfo=tzlocal())}\n",
      "{'Name': 'pcai', 'CreationDate': datetime.datetime(2025, 7, 1, 11, 16, 5, 719000, tzinfo=tzlocal())}\n",
      "{'Name': 'prompts', 'CreationDate': datetime.datetime(2025, 8, 12, 13, 2, 3, 118000, tzinfo=tzlocal())}\n"
     ]
    }
   ],
   "source": [
    "\n",
    "s3 = boto3.client('s3', endpoint_url= s3_url, verify=False)\n",
    "\n",
    "#s3 = boto3.client('s3', aws_access_key_id=access_key_id, aws_secret_access_key=secret_access_key, endpoint_url=s3_url_internal)\n",
    "\n",
    "print(s3._endpoint)\n",
    " \n",
    "res = s3.list_buckets()\n",
    "show = True\n",
    "bucket_name = \"pcai-minio\"\n",
    "# prefix is next to bucket\n",
    "path_prefix = \"/folder/\"\n",
    "if show:\n",
    "    print(\"list buckets\")\n",
    "    for i in res['Buckets']:\n",
    "        print(i)\n",
    "else:\n",
    "    # upload file\n",
    "    s3.upload_file('hello.txt', bucket_name, path_prefix + 'hello.txt')\n",
    "    print(\"uploaded\")"
   ]
  },
  {
   "cell_type": "code",
   "execution_count": null,
   "id": "7c48cc78-7595-482e-badf-a34ba02e55a9",
   "metadata": {},
   "outputs": [],
   "source": []
  }
 ],
 "metadata": {
  "kernelspec": {
   "display_name": "Python 3 (ipykernel)",
   "language": "python",
   "name": "python3"
  },
  "language_info": {
   "codemirror_mode": {
    "name": "ipython",
    "version": 3
   },
   "file_extension": ".py",
   "mimetype": "text/x-python",
   "name": "python",
   "nbconvert_exporter": "python",
   "pygments_lexer": "ipython3",
   "version": "3.11.9"
  }
 },
 "nbformat": 4,
 "nbformat_minor": 5
}
